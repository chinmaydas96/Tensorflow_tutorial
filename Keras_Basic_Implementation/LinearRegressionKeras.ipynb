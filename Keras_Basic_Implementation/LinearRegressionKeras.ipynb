{
 "cells": [
  {
   "cell_type": "code",
   "execution_count": 1,
   "metadata": {},
   "outputs": [
    {
     "name": "stderr",
     "output_type": "stream",
     "text": [
      "Using TensorFlow backend.\n"
     ]
    }
   ],
   "source": [
    "import keras\n",
    "from keras.models import Sequential\n",
    "from keras.layers import Dense, Activation\n",
    "import numpy as np\n",
    "import matplotlib.pyplot as plt "
   ]
  },
  {
   "cell_type": "code",
   "execution_count": 2,
   "metadata": {},
   "outputs": [],
   "source": [
    "x = data = np.linspace(1,2,200)\n",
    "y = x*4 + np.random.randn(*x.shape) * 0.3"
   ]
  },
  {
   "cell_type": "code",
   "execution_count": 3,
   "metadata": {},
   "outputs": [
    {
     "name": "stdout",
     "output_type": "stream",
     "text": [
      "WARNING:tensorflow:From /opt/conda/lib/python3.7/site-packages/tensorflow_core/python/ops/resource_variable_ops.py:1630: calling BaseResourceVariable.__init__ (from tensorflow.python.ops.resource_variable_ops) with constraint is deprecated and will be removed in a future version.\n",
      "Instructions for updating:\n",
      "If using Keras pass *_constraint arguments to layers.\n"
     ]
    }
   ],
   "source": [
    "model = Sequential()\n",
    "model.add(Dense(1, input_dim=1, activation='linear'))"
   ]
  },
  {
   "cell_type": "code",
   "execution_count": 4,
   "metadata": {},
   "outputs": [],
   "source": [
    "model.compile(optimizer='sgd', loss='mse', metrics=['mse'])"
   ]
  },
  {
   "cell_type": "code",
   "execution_count": 5,
   "metadata": {},
   "outputs": [
    {
     "name": "stdout",
     "output_type": "stream",
     "text": [
      "Linear regression model is initialized with weights w: 0.31, b: 0.00\n"
     ]
    }
   ],
   "source": [
    "weights = model.layers[0].get_weights()\n",
    "w_init = weights[0][0][0]\n",
    "b_init = weights[1][0]\n",
    "print('Linear regression model is initialized with weights w: %.2f, b: %.2f' % (w_init, b_init)) "
   ]
  },
  {
   "cell_type": "code",
   "execution_count": 6,
   "metadata": {},
   "outputs": [
    {
     "name": "stdout",
     "output_type": "stream",
     "text": [
      "WARNING:tensorflow:From /opt/conda/lib/python3.7/site-packages/keras/backend/tensorflow_backend.py:422: The name tf.global_variables is deprecated. Please use tf.compat.v1.global_variables instead.\n",
      "\n",
      "Epoch 1/30\n",
      "200/200 [==============================] - 1s 7ms/step - loss: 1.0412 - mse: 1.0412\n",
      "Epoch 2/30\n",
      "200/200 [==============================] - 0s 819us/step - loss: 0.1394 - mse: 0.1394\n",
      "Epoch 3/30\n",
      "200/200 [==============================] - 0s 814us/step - loss: 0.1346 - mse: 0.1346\n",
      "Epoch 4/30\n",
      "200/200 [==============================] - 0s 869us/step - loss: 0.1302 - mse: 0.1302\n",
      "Epoch 5/30\n",
      "200/200 [==============================] - 0s 801us/step - loss: 0.1261 - mse: 0.1261\n",
      "Epoch 6/30\n",
      "200/200 [==============================] - 0s 811us/step - loss: 0.1224 - mse: 0.1224\n",
      "Epoch 7/30\n",
      "200/200 [==============================] - 0s 820us/step - loss: 0.1189 - mse: 0.1189\n",
      "Epoch 8/30\n",
      "200/200 [==============================] - 0s 833us/step - loss: 0.1158 - mse: 0.1158\n",
      "Epoch 9/30\n",
      "200/200 [==============================] - 0s 869us/step - loss: 0.1128 - mse: 0.1128\n",
      "Epoch 10/30\n",
      "200/200 [==============================] - 0s 861us/step - loss: 0.1102 - mse: 0.1102\n",
      "Epoch 11/30\n",
      "200/200 [==============================] - 0s 807us/step - loss: 0.1077 - mse: 0.1077\n",
      "Epoch 12/30\n",
      "200/200 [==============================] - 0s 804us/step - loss: 0.1054 - mse: 0.1054\n",
      "Epoch 13/30\n",
      "200/200 [==============================] - 0s 793us/step - loss: 0.1033 - mse: 0.1033\n",
      "Epoch 14/30\n",
      "200/200 [==============================] - 0s 806us/step - loss: 0.1014 - mse: 0.1014\n",
      "Epoch 15/30\n",
      "200/200 [==============================] - 0s 789us/step - loss: 0.0996 - mse: 0.0996\n",
      "Epoch 16/30\n",
      "200/200 [==============================] - 0s 831us/step - loss: 0.0980 - mse: 0.0980\n",
      "Epoch 17/30\n",
      "200/200 [==============================] - 0s 800us/step - loss: 0.0965 - mse: 0.0965\n",
      "Epoch 18/30\n",
      "200/200 [==============================] - 0s 780us/step - loss: 0.0951 - mse: 0.0951\n",
      "Epoch 19/30\n",
      "200/200 [==============================] - 0s 796us/step - loss: 0.0938 - mse: 0.0938\n",
      "Epoch 20/30\n",
      "200/200 [==============================] - 0s 789us/step - loss: 0.0926 - mse: 0.0926\n",
      "Epoch 21/30\n",
      "200/200 [==============================] - 0s 790us/step - loss: 0.0915 - mse: 0.0915\n",
      "Epoch 22/30\n",
      "200/200 [==============================] - 0s 785us/step - loss: 0.0905 - mse: 0.0905\n",
      "Epoch 23/30\n",
      "200/200 [==============================] - 0s 809us/step - loss: 0.0896 - mse: 0.0896\n",
      "Epoch 24/30\n",
      "200/200 [==============================] - 0s 793us/step - loss: 0.0888 - mse: 0.0888\n",
      "Epoch 25/30\n",
      "200/200 [==============================] - 0s 832us/step - loss: 0.0880 - mse: 0.0880\n",
      "Epoch 26/30\n",
      "200/200 [==============================] - 0s 840us/step - loss: 0.0873 - mse: 0.0873\n",
      "Epoch 27/30\n",
      "200/200 [==============================] - 0s 817us/step - loss: 0.0866 - mse: 0.0866\n",
      "Epoch 28/30\n",
      "200/200 [==============================] - 0s 815us/step - loss: 0.0860 - mse: 0.0860\n",
      "Epoch 29/30\n",
      "200/200 [==============================] - 0s 799us/step - loss: 0.0854 - mse: 0.0854\n",
      "Epoch 30/30\n",
      "200/200 [==============================] - 0s 809us/step - loss: 0.0849 - mse: 0.0849\n"
     ]
    },
    {
     "data": {
      "text/plain": [
       "<keras.callbacks.callbacks.History at 0x7f04400f1390>"
      ]
     },
     "execution_count": 6,
     "metadata": {},
     "output_type": "execute_result"
    }
   ],
   "source": [
    "model.fit(x,y, batch_size=1, epochs=30, shuffle=False)"
   ]
  },
  {
   "cell_type": "code",
   "execution_count": 7,
   "metadata": {},
   "outputs": [
    {
     "name": "stdout",
     "output_type": "stream",
     "text": [
      "Linear regression model is trained to have weight w: 3.63, b: 0.69\n"
     ]
    }
   ],
   "source": [
    "weights = model.layers[0].get_weights()\n",
    "w_final = weights[0][0][0]\n",
    "b_final = weights[1][0]\n",
    "print('Linear regression model is trained to have weight w: %.2f, b: %.2f' % (w_final, b_final))"
   ]
  },
  {
   "cell_type": "code",
   "execution_count": 8,
   "metadata": {},
   "outputs": [],
   "source": [
    "predict = model.predict(data)"
   ]
  },
  {
   "cell_type": "code",
   "execution_count": 9,
   "metadata": {},
   "outputs": [
    {
     "data": {
      "image/png": "[encoded data removed]",
      "text/plain": [
       "<Figure size 432x288 with 1 Axes>"
      ]
     },
     "metadata": {
      "needs_background": "light"
     },
     "output_type": "display_data"
    }
   ],
   "source": [
    "plt.plot(data, predict, 'b', data , y, 'k.')\n",
    "plt.show()"
   ]
  },
  {
   "cell_type": "code",
   "execution_count": null,
   "metadata": {},
   "outputs": [],
   "source": []
  }
 ],
 "metadata": {
  "kernelspec": {
   "display_name": "Python 3",
   "language": "python",
   "name": "python3"
  },
  "language_info": {
   "codemirror_mode": {
    "name": "ipython",
    "version": 3
   },
   "file_extension": ".py",
   "mimetype": "text/x-python",
   "name": "python",
   "nbconvert_exporter": "python",
   "pygments_lexer": "ipython3",
   "version": "3.7.8"
  }
 },
 "nbformat": 4,
 "nbformat_minor": 4
}
