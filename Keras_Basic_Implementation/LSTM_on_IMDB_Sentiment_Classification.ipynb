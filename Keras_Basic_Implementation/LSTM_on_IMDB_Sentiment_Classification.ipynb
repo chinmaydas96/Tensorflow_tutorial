{
  "nbformat": 4,
  "nbformat_minor": 0,
  "metadata": {
    "colab": {
      "name": "LSTM on IMDB Sentiment Classification",
      "provenance": [],
      "collapsed_sections": []
    },
    "kernelspec": {
      "name": "python3",
      "display_name": "Python 3"
    },
    "accelerator": "GPU"
  },
  "cells": [
    {
      "cell_type": "markdown",
      "metadata": {
        "id": "9pdbBtNkFnUP"
      },
      "source": [
        "#IMPORTING LIBRARIES"
      ]
    },
    {
      "cell_type": "code",
      "metadata": {
        "id": "Eggrj-7tBZLC"
      },
      "source": [
        "from keras.preprocessing import sequence \n",
        "from keras.models import Sequential \n",
        "from keras.layers import Dense, Embedding \n",
        "from keras.layers import LSTM \n",
        "from keras.datasets import imdb"
      ],
      "execution_count": 8,
      "outputs": []
    },
    {
      "cell_type": "markdown",
      "metadata": {
        "id": "IaqGpg-WFrvu"
      },
      "source": [
        "#CHECKING GPU"
      ]
    },
    {
      "cell_type": "code",
      "metadata": {
        "id": "cfdOnVj5Dr4k",
        "outputId": "d0fecf93-27fa-4b68-dd0b-c14c01ff4fb7",
        "colab": {
          "base_uri": "https://localhost:8080/",
          "height": 34
        }
      },
      "source": [
        "%tensorflow_version 2.x\n",
        "import tensorflow as tf\n",
        "device_name = tf.test.gpu_device_name()\n",
        "if device_name != '/device:GPU:0':\n",
        "  raise SystemError('GPU device not found')\n",
        "print('Found GPU at: {}'.format(device_name))"
      ],
      "execution_count": 9,
      "outputs": [
        {
          "output_type": "stream",
          "text": [
            "Found GPU at: /device:GPU:0\n"
          ],
          "name": "stdout"
        }
      ]
    },
    {
      "cell_type": "markdown",
      "metadata": {
        "id": "dohe3-5nFvzL"
      },
      "source": [
        "# Loading Data"
      ]
    },
    {
      "cell_type": "code",
      "metadata": {
        "id": "NGiMucg6BhBO"
      },
      "source": [
        "(x_train, y_train), (x_test, y_test) = imdb.load_data(num_words = 2000)"
      ],
      "execution_count": 10,
      "outputs": []
    },
    {
      "cell_type": "markdown",
      "metadata": {
        "id": "_o83e7SWFzyH"
      },
      "source": [
        "# Padding the sequence to have same length\n"
      ]
    },
    {
      "cell_type": "code",
      "metadata": {
        "id": "PAUtknklBlJx"
      },
      "source": [
        "x_train = sequence.pad_sequences(x_train, maxlen=80) \n",
        "x_test = sequence.pad_sequences(x_test, maxlen=80)"
      ],
      "execution_count": 11,
      "outputs": []
    },
    {
      "cell_type": "markdown",
      "metadata": {
        "id": "Y5riRDGpF5Ln"
      },
      "source": [
        "# Model Architecture"
      ]
    },
    {
      "cell_type": "code",
      "metadata": {
        "id": "du-EehWWBqro",
        "outputId": "73c21cd5-3b43-4685-cfe8-7f53731d06b7",
        "colab": {
          "base_uri": "https://localhost:8080/",
          "height": 34
        }
      },
      "source": [
        "model = Sequential() \n",
        "model.add(Embedding(2000, 128)) \n",
        "model.add(LSTM(128, dropout = 0.2, recurrent_dropout = 0.2)) \n",
        "model.add(Dense(1, activation = 'sigmoid'))"
      ],
      "execution_count": 12,
      "outputs": [
        {
          "output_type": "stream",
          "text": [
            "WARNING:tensorflow:Layer lstm_1 will not use cuDNN kernel since it doesn't meet the cuDNN kernel criteria. It will use generic GPU kernel as fallback when running on GPU\n"
          ],
          "name": "stdout"
        }
      ]
    },
    {
      "cell_type": "markdown",
      "metadata": {
        "id": "6SpZvGaLF7Yh"
      },
      "source": [
        "# Model Compilation"
      ]
    },
    {
      "cell_type": "code",
      "metadata": {
        "id": "mQgSVnVWBtw7"
      },
      "source": [
        "model.compile(loss = 'binary_crossentropy', optimizer = 'adam', metrics = ['accuracy'])"
      ],
      "execution_count": 13,
      "outputs": []
    },
    {
      "cell_type": "markdown",
      "metadata": {
        "id": "BCKkG4oNF-iJ"
      },
      "source": [
        "# Model Training"
      ]
    },
    {
      "cell_type": "code",
      "metadata": {
        "id": "w3dgYfGSBxoT",
        "outputId": "9c296341-98e5-4dad-f9fe-cf0ccf0f2136",
        "colab": {
          "base_uri": "https://localhost:8080/",
          "height": 364
        }
      },
      "source": [
        "with tf.device('/device:GPU:0'):\n",
        "  model.fit(\n",
        "    x_train, y_train, \n",
        "    batch_size = 128, \n",
        "    epochs = 10, \n",
        "    validation_data = (x_test, y_test)\n",
        "  )"
      ],
      "execution_count": 16,
      "outputs": [
        {
          "output_type": "stream",
          "text": [
            "Epoch 1/10\n",
            "196/196 [==============================] - 63s 323ms/step - loss: 0.4219 - accuracy: 0.8068 - val_loss: 0.3866 - val_accuracy: 0.8229\n",
            "Epoch 2/10\n",
            "196/196 [==============================] - 65s 332ms/step - loss: 0.3518 - accuracy: 0.8460 - val_loss: 0.3829 - val_accuracy: 0.8303\n",
            "Epoch 3/10\n",
            "196/196 [==============================] - 63s 323ms/step - loss: 0.3251 - accuracy: 0.8576 - val_loss: 0.3815 - val_accuracy: 0.8263\n",
            "Epoch 4/10\n",
            "196/196 [==============================] - 64s 327ms/step - loss: 0.3056 - accuracy: 0.8678 - val_loss: 0.3773 - val_accuracy: 0.8292\n",
            "Epoch 5/10\n",
            "196/196 [==============================] - 63s 323ms/step - loss: 0.2842 - accuracy: 0.8784 - val_loss: 0.3910 - val_accuracy: 0.8315\n",
            "Epoch 6/10\n",
            "196/196 [==============================] - 63s 319ms/step - loss: 0.2598 - accuracy: 0.8882 - val_loss: 0.3970 - val_accuracy: 0.8283\n",
            "Epoch 7/10\n",
            "196/196 [==============================] - 65s 330ms/step - loss: 0.2445 - accuracy: 0.8979 - val_loss: 0.4669 - val_accuracy: 0.8275\n",
            "Epoch 8/10\n",
            "196/196 [==============================] - 66s 335ms/step - loss: 0.2279 - accuracy: 0.9045 - val_loss: 0.4188 - val_accuracy: 0.8285\n",
            "Epoch 9/10\n",
            "196/196 [==============================] - 63s 319ms/step - loss: 0.2113 - accuracy: 0.9130 - val_loss: 0.4920 - val_accuracy: 0.8250\n",
            "Epoch 10/10\n",
            "196/196 [==============================] - 64s 327ms/step - loss: 0.1893 - accuracy: 0.9240 - val_loss: 0.4999 - val_accuracy: 0.8098\n"
          ],
          "name": "stdout"
        }
      ]
    },
    {
      "cell_type": "markdown",
      "metadata": {
        "id": "mTcqS0bcGCFL"
      },
      "source": [
        "#Evaluating Model"
      ]
    },
    {
      "cell_type": "code",
      "metadata": {
        "id": "-Ul-5eLpB0rq",
        "outputId": "819e23b8-710f-4af1-adab-a111c1518c16",
        "colab": {
          "base_uri": "https://localhost:8080/",
          "height": 69
        }
      },
      "source": [
        "score, acc = model.evaluate(x_test, y_test, batch_size = 32) \n",
        "   \n",
        "print('Test score:', score) \n",
        "print('Test accuracy:', acc)"
      ],
      "execution_count": 17,
      "outputs": [
        {
          "output_type": "stream",
          "text": [
            "782/782 [==============================] - 19s 24ms/step - loss: 0.4999 - accuracy: 0.8098\n",
            "Test score: 0.499871164560318\n",
            "Test accuracy: 0.8097599744796753\n"
          ],
          "name": "stdout"
        }
      ]
    },
    {
      "cell_type": "code",
      "metadata": {
        "id": "gK3vdixHGhk1"
      },
      "source": [
        ""
      ],
      "execution_count": null,
      "outputs": []
    }
  ]
}